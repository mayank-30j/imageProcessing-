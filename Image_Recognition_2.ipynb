{
 "cells": [
  {
   "cell_type": "code",
   "execution_count": 1,
   "id": "fa738911",
   "metadata": {},
   "outputs": [],
   "source": [
    "# First step is to import 2 imp. libraries - cv2 and numpy\n",
    "\n",
    "import numpy as np\n",
    "import cv2 "
   ]
  },
  {
   "cell_type": "code",
   "execution_count": 2,
   "id": "e2107f80",
   "metadata": {},
   "outputs": [
    {
     "name": "stdout",
     "output_type": "stream",
     "text": [
      "(710, 1350, 3)\n"
     ]
    }
   ],
   "source": [
    "# Second step is to read the image and store it in a varible\n",
    "\n",
    "img = cv2.imread('minions.jpg',1)      # Reading image \n",
    "img = cv2.resize(img,(1350,710))       # Resizing the image to fit the window\n",
    "print(img.shape)                       # Printing dimensions of the image -- ( height, weight, channel ) "
   ]
  },
  {
   "cell_type": "code",
   "execution_count": 3,
   "id": "20fe573f",
   "metadata": {},
   "outputs": [],
   "source": [
    "# drawing a line on the image\n",
    "\n",
    "img = cv2.line(img,(10,10),(500,500),(233,203,0),2)    # line(source image,starting coord.,ending coord.,color in tuple, thickness)\n",
    "\n",
    "img = cv2.arrowedLine(img,(100,100),(700,600),(0,0,123),3)     # Creats an arrowed line\n",
    "\n",
    "# Creating a rectangle on image\n",
    "\n",
    "img = cv2.rectangle(img,(100,0),(324,442),(233,43,83),3)  # rectangle(source, top left coord. , bottom right coord. ,color in tuple, thickness)   \n",
    "\n",
    "# Creating a circle on the image\n",
    "\n",
    "img = cv2.circle(img,(200,300,),70,(223,123,213),4)       # circle(source, center of the circle, radius of the circle, color of the circle, thickness) \n",
    "\n",
    "# Writing some text on the image\n",
    "\n",
    "font = cv2.FONT_HERSHEY_COMPLEX                                                                           # Font for Text on the image\n",
    "img = cv2.putText(img,'I have watched the minions movie ',(230,234),font,1,(232,255,255),4,cv2.LINE_4)   # putText(source,Text to be written on the image,starting coord. , font for the text, font size,color of the text,thickness,Line Type)\n",
    "\n",
    "# Third step is to show the image using imshow() \n",
    "\n",
    "cv2.imshow(\"Minions are cute\",img)    # printing the image on window screen\n",
    "cv2.waitKey(0)                        # This function will hold the image until the user press any key\n",
    "cv2.destroyAllWindows()               # This function will destroy the windows opened"
   ]
  },
  {
   "cell_type": "code",
   "execution_count": 4,
   "id": "68ca3d6d",
   "metadata": {},
   "outputs": [
    {
     "data": {
      "text/plain": [
       "True"
      ]
     },
     "execution_count": 4,
     "metadata": {},
     "output_type": "execute_result"
    }
   ],
   "source": [
    "# Now we will save the image into another file\n",
    "\n",
    "cv2.imwrite('minions2.png',img)"
   ]
  },
  {
   "cell_type": "code",
   "execution_count": null,
   "id": "1178e28f",
   "metadata": {},
   "outputs": [],
   "source": []
  }
 ],
 "metadata": {
  "kernelspec": {
   "display_name": "Python 3",
   "language": "python",
   "name": "python3"
  },
  "language_info": {
   "codemirror_mode": {
    "name": "ipython",
    "version": 3
   },
   "file_extension": ".py",
   "mimetype": "text/x-python",
   "name": "python",
   "nbconvert_exporter": "python",
   "pygments_lexer": "ipython3",
   "version": "3.8.10"
  }
 },
 "nbformat": 4,
 "nbformat_minor": 5
}
