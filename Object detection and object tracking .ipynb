{
 "cells": [
  {
   "cell_type": "code",
   "execution_count": 1,
   "id": "38cd1544",
   "metadata": {},
   "outputs": [],
   "source": [
    "import numpy as np\n",
    "import cv2 as cv"
   ]
  },
  {
   "cell_type": "code",
   "execution_count": 2,
   "id": "00e2b845",
   "metadata": {},
   "outputs": [],
   "source": [
    "def nothing(X):\n",
    "    pass\n",
    "\n",
    "cap = cv.VideoCapture(0)\n",
    "cv.namedWindow('Tracking')\n",
    "\n",
    "cv.createTrackbar('LH','Tracking',0,255,nothing)\n",
    "cv.createTrackbar('LS','Tracking',0,255,nothing)\n",
    "cv.createTrackbar('LV','Tracking',0,255,nothing)\n",
    "cv.createTrackbar('UH','Tracking',255,255,nothing)\n",
    "cv.createTrackbar('US','Tracking',255,255,nothing)\n",
    "cv.createTrackbar('UV','Tracking',255,255,nothing)\n",
    "\n",
    "\n",
    "while True:\n",
    "    #frame = cv.imread('Photos/smarties.png')\n",
    "    _ , frame = cap.read()\n",
    "    \n",
    "    hsv = cv.cvtColor(frame,cv.COLOR_BGR2HSV)\n",
    "    \n",
    "    l_h = cv.getTrackbarPos('LH','Tracking')\n",
    "    l_s = cv.getTrackbarPos('LS','Tracking')\n",
    "    l_v = cv.getTrackbarPos('LV','Tracking')\n",
    "    \n",
    "    u_h = cv.getTrackbarPos('UH','Tracking')\n",
    "    u_s = cv.getTrackbarPos('US','Tracking')\n",
    "    u_v = cv.getTrackbarPos('UV','Tracking')\n",
    "    \n",
    "    l_b = np.array([l_h,l_s,l_v])\n",
    "    u_b = np.array([u_h,u_s,u_v])\n",
    "    \n",
    "    mask = cv.inRange(hsv,l_b,u_b)\n",
    "    \n",
    "    res = cv.bitwise_and(frame,frame,mask=mask)\n",
    "    \n",
    "    cv.imshow('frame',hsv)\n",
    "    cv.imshow('result',res)\n",
    "    cv.imshow('mask',mask)\n",
    "    \n",
    "    key = cv.waitKey(1) \n",
    "    \n",
    "    if key == ord('q'):\n",
    "        break\n",
    "\n",
    "cap.release()        \n",
    "cv.destroyAllWindows()\n"
   ]
  }
 ],
 "metadata": {
  "kernelspec": {
   "display_name": "Python 3",
   "language": "python",
   "name": "python3"
  },
  "language_info": {
   "codemirror_mode": {
    "name": "ipython",
    "version": 3
   },
   "file_extension": ".py",
   "mimetype": "text/x-python",
   "name": "python",
   "nbconvert_exporter": "python",
   "pygments_lexer": "ipython3",
   "version": "3.8.10"
  }
 },
 "nbformat": 4,
 "nbformat_minor": 5
}
