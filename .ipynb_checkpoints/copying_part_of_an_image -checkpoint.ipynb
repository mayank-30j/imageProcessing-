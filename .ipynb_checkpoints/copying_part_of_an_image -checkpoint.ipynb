{
 "cells": [
  {
   "cell_type": "code",
   "execution_count": 57,
   "id": "02019e9d",
   "metadata": {},
   "outputs": [],
   "source": [
    "# importing the libraries \n",
    "\n",
    "import cv2 \n",
    "import numpy"
   ]
  },
  {
   "cell_type": "code",
   "execution_count": 58,
   "id": "96d86660",
   "metadata": {},
   "outputs": [
    {
     "name": "stdout",
     "output_type": "stream",
     "text": [
      "EVENT_FLAG_ALTKEY\n",
      "EVENT_FLAG_CTRLKEY\n",
      "EVENT_FLAG_LBUTTON\n",
      "EVENT_FLAG_MBUTTON\n",
      "EVENT_FLAG_RBUTTON\n",
      "EVENT_FLAG_SHIFTKEY\n",
      "EVENT_LBUTTONDBLCLK\n",
      "EVENT_LBUTTONDOWN\n",
      "EVENT_LBUTTONUP\n",
      "EVENT_MBUTTONDBLCLK\n",
      "EVENT_MBUTTONDOWN\n",
      "EVENT_MBUTTONUP\n",
      "EVENT_MOUSEHWHEEL\n",
      "EVENT_MOUSEMOVE\n",
      "EVENT_MOUSEWHEEL\n",
      "EVENT_RBUTTONDBLCLK\n",
      "EVENT_RBUTTONDOWN\n",
      "EVENT_RBUTTONUP\n"
     ]
    }
   ],
   "source": [
    "events = [i for i in dir(cv2) if 'EVENT' in i] \n",
    "for e in events:\n",
    "    print(e)"
   ]
  },
  {
   "cell_type": "code",
   "execution_count": 59,
   "id": "50ce48a2",
   "metadata": {},
   "outputs": [
    {
     "name": "stdout",
     "output_type": "stream",
     "text": [
      "(512, 512, 3)\n"
     ]
    }
   ],
   "source": [
    "\n",
    "def click_event(event,x,y,flags,param):\n",
    "    if event == cv2.EVENT_LBUTTONDOWN:\n",
    "        print(x,\",\",y)\n",
    "        cv2.circle(img,(x,y),2,(255,255,0),-1)\n",
    "        Text = str(x) + \",\" + str(y)\n",
    "        cv2.putText(img,Text,(x,y),cv2.FONT_HERSHEY_SIMPLEX,1,(255,255,0),1)\n",
    "        cv2.imshow('Image',img)\n",
    "        \n",
    "\n",
    "\n",
    "        \n",
    "img = cv2.imread('Photos/chicky_512.png')\n",
    "cv2.imshow('Image',img)\n",
    "print(img.shape)\n",
    "\n",
    "cv2.setMouseCallback('Image',click_event)\n",
    "\n",
    "cv2.waitKey(0)\n",
    "cv2.destroyAllWindows()\n"
   ]
  },
  {
   "cell_type": "code",
   "execution_count": 61,
   "id": "93e3e927",
   "metadata": {},
   "outputs": [],
   "source": [
    "# Copying a part of an image for example the rubber in the image to other part of the image\n",
    "#block = img[135:238,329:458]                 #img[y1:y2,x1:x2]\n",
    "#img[308:411,419:548] = block                 #img[y1:y2,x1:x2]\n",
    "\n",
    "#cv2.imshow(\"Image\",img)\n",
    "#cv2.waitKey(0)\n",
    "#cv2.destroyAllWindows()"
   ]
  },
  {
   "cell_type": "code",
   "execution_count": 66,
   "id": "c0fbdf4d",
   "metadata": {},
   "outputs": [],
   "source": [
    "# Adding 2 images using add method\n",
    "\n",
    "img2 = cv2.imread('Photos/leuvenA.jpg')\n",
    "\n",
    "img =  cv2.resize(img,(512,512))\n",
    "img2 = cv2.resize(img2,(512,512))\n",
    "\n",
    "\n",
    "dst = cv2.addWeighted(img,0.3,img2,0.7,0)\n",
    "\n",
    "cv2.imshow('Merged image',dst)\n",
    "cv2.waitKey(0)\n",
    "cv2.destroyAllWindows()"
   ]
  },
  {
   "cell_type": "code",
   "execution_count": 67,
   "id": "1df57ac1",
   "metadata": {},
   "outputs": [
    {
     "data": {
      "text/plain": [
       "True"
      ]
     },
     "execution_count": 67,
     "metadata": {},
     "output_type": "execute_result"
    }
   ],
   "source": [
    "# Writing the new image to another file\n",
    "\n",
    "cv2.imwrite('new.jpg',dst)"
   ]
  },
  {
   "cell_type": "code",
   "execution_count": null,
   "id": "1453c68a",
   "metadata": {},
   "outputs": [],
   "source": []
  }
 ],
 "metadata": {
  "kernelspec": {
   "display_name": "Python 3",
   "language": "python",
   "name": "python3"
  },
  "language_info": {
   "codemirror_mode": {
    "name": "ipython",
    "version": 3
   },
   "file_extension": ".py",
   "mimetype": "text/x-python",
   "name": "python",
   "nbconvert_exporter": "python",
   "pygments_lexer": "ipython3",
   "version": "3.8.10"
  }
 },
 "nbformat": 4,
 "nbformat_minor": 5
}
