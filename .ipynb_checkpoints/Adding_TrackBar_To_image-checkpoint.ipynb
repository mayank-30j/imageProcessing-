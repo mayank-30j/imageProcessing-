{
 "cells": [
  {
   "cell_type": "code",
   "execution_count": 1,
   "id": "065789f7",
   "metadata": {},
   "outputs": [],
   "source": [
    "import cv2 as cv\n",
    "import numpy as np"
   ]
  },
  {
   "cell_type": "code",
   "execution_count": 10,
   "id": "cb14b7d0",
   "metadata": {},
   "outputs": [
    {
     "name": "stdout",
     "output_type": "stream",
     "text": [
      "1\n",
      "51\n",
      "102\n",
      "51\n",
      "102\n",
      "51\n",
      "102\n",
      "153\n",
      "102\n",
      "51\n"
     ]
    }
   ],
   "source": [
    "img = np.zeros((512,512,3),np.uint8)\n",
    "cv.namedWindow('image')\n",
    "\n",
    "def print_channel(x):\n",
    "    print(x)\n",
    "\n",
    "switch = '0:OFF\\n 1:ON'    \n",
    "    \n",
    "cv.createTrackbar('B','image',0,255,print_channel)\n",
    "cv.createTrackbar('G','image',0,255,print_channel)\n",
    "cv.createTrackbar('R','image',0,255,print_channel)\n",
    "cv.createTrackbar(switch,'image',0,1,print_channel)\n",
    "\n",
    "\n",
    "while True:\n",
    "    cv.imshow('image',img)\n",
    "    if cv.waitKey(1) & 0xFF == ord('q'):\n",
    "        break\n",
    "    b = cv.getTrackbarPos('B','image')\n",
    "    g = cv.getTrackbarPos('G','image')\n",
    "    r = cv.getTrackbarPos('R','image')\n",
    "    s = cv.getTrackbarPos(switch,'image')\n",
    "    \n",
    "    if s == 0:\n",
    "        img[:] = 0\n",
    "    else:    \n",
    "        img[:] = [b,g,r]\n",
    "        \n",
    "cv.destroyAllWindows()        "
   ]
  },
  {
   "cell_type": "code",
   "execution_count": null,
   "id": "439b8808",
   "metadata": {},
   "outputs": [],
   "source": []
  }
 ],
 "metadata": {
  "kernelspec": {
   "display_name": "Python 3",
   "language": "python",
   "name": "python3"
  },
  "language_info": {
   "codemirror_mode": {
    "name": "ipython",
    "version": 3
   },
   "file_extension": ".py",
   "mimetype": "text/x-python",
   "name": "python",
   "nbconvert_exporter": "python",
   "pygments_lexer": "ipython3",
   "version": "3.8.10"
  }
 },
 "nbformat": 4,
 "nbformat_minor": 5
}
