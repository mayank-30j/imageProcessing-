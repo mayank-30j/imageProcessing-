{
 "cells": [
  {
   "cell_type": "code",
   "execution_count": 1,
   "id": "557c22f4",
   "metadata": {},
   "outputs": [],
   "source": [
    "import cv2 \n",
    "import numpy as np"
   ]
  },
  {
   "cell_type": "code",
   "execution_count": 2,
   "id": "fc579fed",
   "metadata": {},
   "outputs": [
    {
     "name": "stdout",
     "output_type": "stream",
     "text": [
      "EVENT_FLAG_ALTKEY\n",
      "EVENT_FLAG_CTRLKEY\n",
      "EVENT_FLAG_LBUTTON\n",
      "EVENT_FLAG_MBUTTON\n",
      "EVENT_FLAG_RBUTTON\n",
      "EVENT_FLAG_SHIFTKEY\n",
      "EVENT_LBUTTONDBLCLK\n",
      "EVENT_LBUTTONDOWN\n",
      "EVENT_LBUTTONUP\n",
      "EVENT_MBUTTONDBLCLK\n",
      "EVENT_MBUTTONDOWN\n",
      "EVENT_MBUTTONUP\n",
      "EVENT_MOUSEHWHEEL\n",
      "EVENT_MOUSEMOVE\n",
      "EVENT_MOUSEWHEEL\n",
      "EVENT_RBUTTONDBLCLK\n",
      "EVENT_RBUTTONDOWN\n",
      "EVENT_RBUTTONUP\n"
     ]
    }
   ],
   "source": [
    "# To list all the Events in cv2 library\n",
    "\n",
    "events = [i for i in dir(cv2) if \"EVENT\" in i]\n",
    "for event in events:\n",
    "    print(event)\n",
    "    "
   ]
  },
  {
   "cell_type": "code",
   "execution_count": 3,
   "id": "89ccafbb",
   "metadata": {},
   "outputs": [],
   "source": [
    "# Printing the coordinates of the point where we click on the window\n",
    "def eventClick(event,x,y,flag,param):\n",
    "    if event == cv2.EVENT_LBUTTONDBLCLK:\n",
    "        print(x,',',y)\n",
    "        font = cv2.FONT_HERSHEY_SCRIPT_SIMPLEX\n",
    "        strXY = str(x) + \", \" + str(y)\n",
    "        cv2.putText(img,strXY,(x,y),font,0.7,(123,232,120),4,cv2.LINE_AA)\n",
    "        cv2.imshow('image',img)     "
   ]
  },
  {
   "cell_type": "code",
   "execution_count": 4,
   "id": "acb01e1c",
   "metadata": {},
   "outputs": [
    {
     "name": "stdout",
     "output_type": "stream",
     "text": [
      "338 , 279\n",
      "225 , 122\n",
      "150 , 122\n",
      "157 , 259\n",
      "231 , 371\n",
      "246 , 341\n",
      "100 , 308\n",
      "102 , 369\n",
      "59 , 298\n",
      "56 , 194\n",
      "344 , 208\n",
      "431 , 56\n",
      "73 , 57\n",
      "73 , 70\n",
      "34 , 348\n",
      "395 , 479\n",
      "468 , 369\n"
     ]
    }
   ],
   "source": [
    "img = cv2.imread('photos/Lena.jpg')\n",
    "cv2.imshow(\"image\",img)\n",
    "\n",
    "cv2.setMouseCallback('image',eventClick)\n",
    "cv2.waitKey(0)\n",
    "cv2.destroyAllWindows()"
   ]
  },
  {
   "cell_type": "code",
   "execution_count": 5,
   "id": "25066019",
   "metadata": {},
   "outputs": [],
   "source": [
    "import cv2 \n",
    "import numpy as np"
   ]
  },
  {
   "cell_type": "code",
   "execution_count": 6,
   "id": "7dcc0206",
   "metadata": {},
   "outputs": [],
   "source": [
    "# Creating a circle and connecting them\n",
    "points = []\n",
    "def click_event(event,x,y,flags,param):\n",
    "    if event == cv2.EVENT_LBUTTONDOWN:\n",
    "        cv2.circle(img1,(x,y),5,(123,234,12),-1)\n",
    "        points.append((x,y))\n",
    "        if len(points) >=2:\n",
    "            cv2.line(img1,points[-1],points[-2],(0,0,112),1)\n",
    "        cv2.imshow('image',img1)\n",
    "        \n",
    "        \n",
    "\n",
    "img1 = cv2.imread('Photos/lena.jpg')\n",
    "cv2.imshow('image',img1)\n",
    "\n",
    "cv2.setMouseCallback('image',click_event)\n",
    "\n",
    "cv2.waitKey(0)\n",
    "cv2.destroyAllWindows()"
   ]
  },
  {
   "cell_type": "code",
   "execution_count": null,
   "id": "cebb3608",
   "metadata": {},
   "outputs": [],
   "source": []
  },
  {
   "cell_type": "code",
   "execution_count": null,
   "id": "50d2c7d0",
   "metadata": {},
   "outputs": [],
   "source": []
  }
 ],
 "metadata": {
  "kernelspec": {
   "display_name": "Python 3",
   "language": "python",
   "name": "python3"
  },
  "language_info": {
   "codemirror_mode": {
    "name": "ipython",
    "version": 3
   },
   "file_extension": ".py",
   "mimetype": "text/x-python",
   "name": "python",
   "nbconvert_exporter": "python",
   "pygments_lexer": "ipython3",
   "version": "3.8.10"
  }
 },
 "nbformat": 4,
 "nbformat_minor": 5
}
