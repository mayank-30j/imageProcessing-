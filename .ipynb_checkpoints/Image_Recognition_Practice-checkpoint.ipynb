{
 "cells": [
  {
   "cell_type": "code",
   "execution_count": 2,
   "id": "fa738911",
   "metadata": {},
   "outputs": [],
   "source": [
    "# First step is to import 2 imp. libraries - cv2 and numpy\n",
    "\n",
    "import numpy as np\n",
    "import cv2 "
   ]
  },
  {
   "cell_type": "code",
   "execution_count": 3,
   "id": "e2107f80",
   "metadata": {},
   "outputs": [
    {
     "name": "stdout",
     "output_type": "stream",
     "text": [
      "(710, 1350, 3)\n"
     ]
    }
   ],
   "source": [
    "# Second step is to read the image and store it in a varible\n",
    "\n",
    "img = cv2.imread('minions.jpg',1)      # Reading image \n",
    "img = cv2.resize(img,(1350,710))       # Resizing the image to fit the window -- resize(source,(weight,height))\n",
    "print(img.shape)                       # Printing dimensions of the image -- ( height, weight, channel ) "
   ]
  },
  {
   "cell_type": "code",
   "execution_count": 4,
   "id": "20fe573f",
   "metadata": {},
   "outputs": [],
   "source": [
    "# Third step is to show the image using imshow function\n",
    "\n",
    "cv2.imshow(\"Minions are cute\",img)    # printing the image on window screen\n",
    "cv2.waitKey(0)                        # This function will hold the image until the user press any key\n",
    "cv2.destroyAllWindows()               # This function will destroy the windows opened"
   ]
  },
  {
   "cell_type": "code",
   "execution_count": 5,
   "id": "68ca3d6d",
   "metadata": {},
   "outputs": [
    {
     "data": {
      "text/plain": [
       "True"
      ]
     },
     "execution_count": 5,
     "metadata": {},
     "output_type": "execute_result"
    }
   ],
   "source": [
    "# Now we will save the image into another file\n",
    "\n",
    "cv2.imwrite('minions2.png',img)"
   ]
  },
  {
   "cell_type": "code",
   "execution_count": 6,
   "id": "1178e28f",
   "metadata": {},
   "outputs": [
    {
     "data": {
      "text/plain": [
       "(710, 1350, 3)"
      ]
     },
     "execution_count": 6,
     "metadata": {},
     "output_type": "execute_result"
    }
   ],
   "source": [
    "img.shape"
   ]
  },
  {
   "cell_type": "code",
   "execution_count": 7,
   "id": "964eb48e",
   "metadata": {},
   "outputs": [
    {
     "data": {
      "text/plain": [
       "'2875500 Total number of pixel'"
      ]
     },
     "execution_count": 7,
     "metadata": {},
     "output_type": "execute_result"
    }
   ],
   "source": [
    "str(img.size) + ' Total number of pixel'"
   ]
  },
  {
   "cell_type": "code",
   "execution_count": 8,
   "id": "d6b99aad",
   "metadata": {},
   "outputs": [
    {
     "data": {
      "text/plain": [
       "dtype('uint8')"
      ]
     },
     "execution_count": 8,
     "metadata": {},
     "output_type": "execute_result"
    }
   ],
   "source": [
    "img.dtype"
   ]
  },
  {
   "cell_type": "code",
   "execution_count": 9,
   "id": "934f4ea4",
   "metadata": {},
   "outputs": [],
   "source": [
    "b,g,r = cv2.split(img)"
   ]
  },
  {
   "cell_type": "code",
   "execution_count": 10,
   "id": "6bdd2f58",
   "metadata": {},
   "outputs": [],
   "source": [
    "img = cv2.merge((b,g,r))"
   ]
  },
  {
   "cell_type": "code",
   "execution_count": 11,
   "id": "866ec029",
   "metadata": {},
   "outputs": [],
   "source": [
    "cv2.imshow(\" \",img)\n",
    "cv2.waitKey(0)\n",
    "cv2.destroyAllWindows()"
   ]
  },
  {
   "cell_type": "code",
   "execution_count": 3,
   "id": "c1e25410",
   "metadata": {},
   "outputs": [
    {
     "name": "stdout",
     "output_type": "stream",
     "text": [
      "1\n",
      "3\n",
      "5\n",
      "9\n",
      "12\n",
      "17\n",
      "22\n",
      "27\n",
      "32\n",
      "37\n",
      "40\n",
      "45\n",
      "47\n",
      "50\n",
      "52\n",
      "53\n",
      "55\n",
      "56\n",
      "57\n",
      "59\n",
      "60\n",
      "61\n",
      "62\n",
      "63\n",
      "64\n",
      "65\n",
      "66\n",
      "67\n",
      "68\n",
      "69\n",
      "70\n",
      "71\n",
      "72\n",
      "73\n",
      "74\n",
      "75\n",
      "76\n",
      "77\n",
      "78\n",
      "79\n",
      "80\n",
      "81\n",
      "82\n",
      "83\n",
      "84\n",
      "85\n",
      "86\n",
      "87\n",
      "88\n",
      "89\n",
      "90\n",
      "91\n",
      "92\n",
      "93\n",
      "94\n",
      "95\n",
      "96\n",
      "97\n",
      "98\n",
      "99\n",
      "100\n",
      "101\n",
      "102\n",
      "103\n",
      "104\n",
      "105\n",
      "106\n",
      "107\n",
      "108\n",
      "109\n",
      "110\n",
      "111\n",
      "113\n",
      "114\n",
      "116\n",
      "117\n",
      "118\n",
      "119\n",
      "120\n",
      "121\n",
      "122\n",
      "123\n",
      "124\n",
      "125\n",
      "1\n",
      "2\n",
      "3\n",
      "4\n",
      "5\n",
      "6\n",
      "8\n",
      "9\n",
      "11\n",
      "13\n",
      "15\n",
      "17\n",
      "18\n",
      "19\n",
      "20\n",
      "21\n",
      "22\n",
      "23\n",
      "24\n",
      "25\n",
      "26\n",
      "27\n",
      "28\n",
      "29\n",
      "30\n",
      "31\n",
      "32\n",
      "33\n",
      "34\n",
      "35\n",
      "37\n",
      "39\n",
      "40\n",
      "41\n",
      "44\n",
      "47\n",
      "48\n",
      "49\n",
      "51\n",
      "52\n",
      "53\n",
      "55\n",
      "57\n",
      "59\n",
      "60\n",
      "61\n",
      "62\n",
      "63\n",
      "64\n",
      "66\n",
      "67\n",
      "68\n",
      "69\n",
      "70\n",
      "71\n",
      "73\n",
      "74\n",
      "75\n",
      "76\n",
      "77\n",
      "78\n",
      "80\n",
      "82\n",
      "84\n",
      "86\n",
      "88\n",
      "91\n",
      "93\n",
      "94\n",
      "95\n",
      "96\n",
      "97\n",
      "98\n",
      "99\n",
      "100\n",
      "101\n",
      "102\n",
      "103\n",
      "104\n",
      "105\n",
      "106\n",
      "107\n",
      "108\n",
      "109\n",
      "110\n",
      "111\n",
      "112\n",
      "113\n",
      "114\n",
      "115\n",
      "116\n",
      "117\n",
      "118\n",
      "119\n",
      "120\n",
      "121\n",
      "122\n",
      "123\n",
      "124\n",
      "1\n",
      "2\n",
      "3\n",
      "5\n",
      "7\n",
      "16\n",
      "30\n",
      "35\n",
      "40\n",
      "47\n",
      "49\n",
      "52\n",
      "54\n",
      "56\n",
      "57\n",
      "60\n",
      "62\n",
      "63\n",
      "65\n",
      "67\n",
      "68\n",
      "70\n",
      "72\n",
      "73\n",
      "74\n",
      "75\n",
      "76\n",
      "78\n",
      "79\n",
      "80\n",
      "81\n",
      "82\n",
      "83\n",
      "85\n",
      "88\n",
      "90\n",
      "91\n",
      "92\n",
      "93\n",
      "94\n",
      "95\n",
      "96\n",
      "97\n",
      "98\n",
      "99\n",
      "100\n",
      "101\n",
      "102\n",
      "103\n",
      "104\n",
      "105\n",
      "106\n",
      "107\n",
      "108\n",
      "109\n",
      "110\n",
      "111\n",
      "112\n",
      "113\n",
      "114\n",
      "115\n",
      "116\n",
      "117\n",
      "118\n",
      "119\n",
      "120\n",
      "121\n",
      "122\n",
      "123\n",
      "124\n",
      "123\n",
      "122\n",
      "121\n",
      "120\n",
      "121\n",
      "122\n",
      "123\n"
     ]
    }
   ],
   "source": [
    "# adding trackbar to window\n",
    "import cv2\n",
    "import numpy as np\n",
    "\n",
    "def nothing(x):\n",
    "    print(x)\n",
    "    \n",
    "\n",
    "img1 = np.zeros((300,512,3), np.uint8)\n",
    "cv2.namedWindow('image')\n",
    "\n",
    "cv2.createTrackbar('B','image',0,255,nothing)\n",
    "cv2.createTrackbar('G','image',0,255,nothing)\n",
    "cv2.createTrackbar('R','image',0,255,nothing)\n",
    "\n",
    "while(1):\n",
    "    cv2.imshow('image',img1)\n",
    "    k = cv2.waitKey(1) & 0xFF\n",
    "    if k==27:\n",
    "        break\n",
    "        \n",
    "        \n",
    "    b = cv2.getTrackbarPos('B','image') \n",
    "    g = cv2.getTrackbarPos('G','image') \n",
    "    r = cv2.getTrackbarPos('R','image')\n",
    "    \n",
    "    img1[:] = [b,g,r]\n",
    "    \n",
    "    \n",
    "cv2.destroyAllWindows()"
   ]
  },
  {
   "cell_type": "code",
   "execution_count": null,
   "id": "5d044b5d",
   "metadata": {},
   "outputs": [],
   "source": []
  }
 ],
 "metadata": {
  "kernelspec": {
   "display_name": "Python 3",
   "language": "python",
   "name": "python3"
  },
  "language_info": {
   "codemirror_mode": {
    "name": "ipython",
    "version": 3
   },
   "file_extension": ".py",
   "mimetype": "text/x-python",
   "name": "python",
   "nbconvert_exporter": "python",
   "pygments_lexer": "ipython3",
   "version": "3.8.10"
  }
 },
 "nbformat": 4,
 "nbformat_minor": 5
}
