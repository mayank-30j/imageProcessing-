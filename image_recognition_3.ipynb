{
 "cells": [
  {
   "cell_type": "code",
   "execution_count": 1,
   "id": "6fd2f37d",
   "metadata": {},
   "outputs": [
    {
     "name": "stdout",
     "output_type": "stream",
     "text": [
      "213 , 208\n",
      "393 , 273\n",
      "60 , 41\n",
      "72 , 135\n",
      "25 , 82\n",
      "137 , 49\n",
      "234 , 139\n",
      "290 , 191\n",
      "364 , 241\n",
      "393 , 277\n",
      "429 , 312\n",
      "321 , 322\n",
      "276 , 301\n",
      "222 , 174\n"
     ]
    }
   ],
   "source": [
    "# Printing the color of of image at a given point where we click.\n",
    "\n",
    "import numpy as np\n",
    "import cv2 \n",
    "\n",
    "def click_event(event,x,y,flags,param):\n",
    "    if event == cv2.EVENT_LBUTTONDOWN:\n",
    "        print(x,\",\",y)\n",
    "        blue = img[x,y,0]\n",
    "        green = img[x,y,1]\n",
    "        red = img[x,y,2]\n",
    "        \n",
    "        cv2.circle(img,(x,y),3,(168,94,94),-1)\n",
    "        \n",
    "        myColorImg = np.zeros((512,512,3),np.uint8)\n",
    "        myColorImg[:] = [blue,green,red]\n",
    "        \n",
    "        cv2.imshow('color',myColorImg)\n",
    "        \n",
    "        \n",
    "img = cv2.imread('Photos/lena.jpg')\n",
    "cv2.imshow('image',img)\n",
    "\n",
    "cv2.setMouseCallback('image',click_event)\n",
    "\n",
    "cv2.waitKey(0) & 0xFF \n",
    "cv2.destroyAllWindows()"
   ]
  },
  {
   "cell_type": "code",
   "execution_count": null,
   "id": "ac0351a4",
   "metadata": {},
   "outputs": [],
   "source": []
  }
 ],
 "metadata": {
  "kernelspec": {
   "display_name": "Python 3",
   "language": "python",
   "name": "python3"
  },
  "language_info": {
   "codemirror_mode": {
    "name": "ipython",
    "version": 3
   },
   "file_extension": ".py",
   "mimetype": "text/x-python",
   "name": "python",
   "nbconvert_exporter": "python",
   "pygments_lexer": "ipython3",
   "version": "3.8.10"
  }
 },
 "nbformat": 4,
 "nbformat_minor": 5
}
